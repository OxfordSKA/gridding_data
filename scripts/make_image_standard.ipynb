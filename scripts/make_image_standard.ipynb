{
 "cells": [
  {
   "cell_type": "markdown",
   "metadata": {},
   "source": [
    "### Demonstration of traditional (non-w-projection) gridding\n",
    "\n",
    "##### Requires:\n",
    "- ipython\n",
    "- numpy\n",
    "- matplotlib\n",
    "- make_image_standard (crocodle module)"
   ]
  },
  {
   "cell_type": "code",
   "execution_count": 19,
   "metadata": {},
   "outputs": [],
   "source": [
    "%matplotlib inline\n",
    "import matplotlib.pyplot as plt\n",
    "import numpy as np\n",
    "from make_image_standard import GriddingConvolutionFunction, Grid, Image, grid_data\n",
    "import time\n",
    "import random"
   ]
  },
  {
   "cell_type": "markdown",
   "metadata": {},
   "source": [
    "#### Generate some visibility data"
   ]
  },
  {
   "cell_type": "code",
   "execution_count": 20,
   "metadata": {},
   "outputs": [
    {
     "name": "stdout",
     "output_type": "stream",
     "text": [
      "Time taken = 0.000 s\n"
     ]
    },
    {
     "data": {
      "image/png": "[encoded data removed]"
     },
     "output_type": "display_data",
     "metadata": {}
    }
   ],
   "source": [
    "t0 = time.time()\n",
    "num_vis = 1\n",
    "uvw = np.zeros((num_vis, 3), dtype='f8')\n",
    "vis = np.zeros((num_vis,), dtype='c16')\n",
    "vis[0] = 1.0 + 0.0j\n",
    "uvw[0, 0] = 0.0 # + random.random()\n",
    "uvw[0, 1] = 0.0 # + random.random()\n",
    "print 'Time taken = %.3f s' % (time.time() - t0)\n",
    "fig = plt.figure(figsize=(2, 2))\n",
    "fig.add_subplot(111, aspect='equal')\n",
    "plt.plot(uvw[:, 0], uvw[:, 1], '+')\n",
    "plt.xlim([0, 5])\n",
    "plt.ylim([0, 5])\n",
    "plt.grid()\n",
    "# TODO load a simulated data set instead."
   ]
  },
  {
   "cell_type": "markdown",
   "metadata": {},
   "source": [
    "#### Generate a gridding convolution function"
   ]
  },
  {
   "cell_type": "code",
   "execution_count": 21,
   "metadata": {},
   "outputs": [
    {
     "name": "stdout",
     "output_type": "stream",
     "text": [
      "Time taken = 0.028 s\n"
     ]
    }
   ],
   "source": [
    "t0 = time.time()\n",
    "support = 3  # Number of grid pixels = support * 2 + 1\n",
    "over_sample = 63  # Number of points points per grid cell.\n",
    "gcf = GriddingConvolutionFunction(support, over_sample)\n",
    "# gcf.pillbox_2d()\n",
    "# gcf.exponential_2d()\n",
    "# gcf.sinc_2d()\n",
    "gcf.exponential_sinc_2d()\n",
    "print 'Time taken = %.3f s' % (time.time() - t0)\n",
    "# gcf.plot()"
   ]
  },
  {
   "cell_type": "markdown",
   "metadata": {},
   "source": [
    "#### Gridding"
   ]
  },
  {
   "cell_type": "code",
   "execution_count": 22,
   "metadata": {},
   "outputs": [
    {
     "name": "stdout",
     "output_type": "stream",
     "text": [
      "Time taken = 0.001 s\n"
     ]
    }
   ],
   "source": [
    "t0 = time.time()\n",
    "im_size = 128\n",
    "cell_size_uv_m = 1.0\n",
    "grid = Grid(im_size, cell_size_uv_m)\n",
    "grid_data(uvw, vis, gcf, grid)\n",
    "print 'Time taken = %.3f s' % (time.time() - t0)\n",
    "extent = [64-10, 64+10, 64-10, 64+10]\n",
    "# grid.plot(extent)\n",
    "# grid.plot()"
   ]
  },
  {
   "cell_type": "markdown",
   "metadata": {},
   "source": [
    "#### Grid -> image\n"
   ]
  },
  {
   "cell_type": "code",
   "execution_count": 23,
   "metadata": {},
   "outputs": [
    {
     "name": "stdout",
     "output_type": "stream",
     "text": [
      "Time taken = 0.003 s [image fft]\n",
      "xxx 121 60\n",
      "[0 1 2 3 4 5 6]\n",
      "31\n",
      "-- (7,)\n",
      "7 63 (441, 441)\n",
      "Time taken = 0.006 s [grid correction]\n"
     ]
    }
   ],
   "source": [
    "t0 = time.time()\n",
    "image = Image(grid)\n",
    "print 'Time taken = %.3f s [image fft]' % (time.time() - t0)\n",
    "# image.plot()\n",
    "t0 = time.time()\n",
    "image.grid_correct(gcf)\n",
    "print 'Time taken = %.3f s [grid correction]' % (time.time() - t0)\n",
    "# FIXME Correction is not working fully\n",
    "# - FFT padding to generate the correction pad gcf to size of image?\n",
    "# - change rounding method in gridding?\n",
    "# image.plot_correction()\n",
    "#image.plot()\n",
    "plt.imshow(image.data, interpolation='nearest')"
   ]
  },
  {
   "cell_type": "code",
   "execution_count": null,
   "metadata": {},
   "outputs": [],
   "source": [
    ""
   ]
  }
 ],
 "metadata": {
  "kernelspec": {
   "display_name": "Python 2",
   "language": "python",
   "name": "python2"
  },
  "language_info": {
   "codemirror_mode": {
    "name": "ipython",
    "version": 2.0
   },
   "file_extension": ".py",
   "mimetype": "text/x-python",
   "name": "python",
   "nbconvert_exporter": "python",
   "pygments_lexer": "ipython2",
   "version": "2.7.10"
  }
 },
 "nbformat": 4,
 "nbformat_minor": 0
}